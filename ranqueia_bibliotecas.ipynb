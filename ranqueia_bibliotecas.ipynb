{
  "nbformat": 4,
  "nbformat_minor": 0,
  "metadata": {
    "colab": {
      "name": "ranqueia_bibliotecas.ipynb",
      "provenance": [],
      "collapsed_sections": [],
      "authorship_tag": "ABX9TyOpmVXwXX39kt5+U4g9pBUQ",
      "include_colab_link": true
    },
    "kernelspec": {
      "name": "python3",
      "display_name": "Python 3"
    }
  },
  "cells": [
    {
      "cell_type": "markdown",
      "metadata": {
        "id": "view-in-github",
        "colab_type": "text"
      },
      "source": [
        "<a href=\"https://colab.research.google.com/github/crazyself/Google_hash_code_2020/blob/master/ranqueia_bibliotecas.ipynb\" target=\"_parent\"><img src=\"https://colab.research.google.com/assets/colab-badge.svg\" alt=\"Open In Colab\"/></a>"
      ]
    },
    {
      "cell_type": "code",
      "metadata": {
        "id": "aom0cmzwoDLZ",
        "colab_type": "code",
        "colab": {}
      },
      "source": [
        "# -*- coding: utf-8 -*-\n",
        "for biblioteca in bibliotecas.values():\n",
        "  #Coleta a pontuação dos livros\n",
        "  lista = list(biblioteca['livros'].values())\n",
        "  soma = 0\n",
        "  #soma a pontuação\n",
        "  for valor in lista:\n",
        "    soma += int(valor)\n",
        "  #divide pela quantidade de livros\n",
        "  media = soma / biblioteca['qtd_livros']\n",
        "  #multiplica pela quantidade de emprestimos e pelos dias de cadastro\n",
        "  nota = media * biblioteca['dias_cadastro'] * biblioteca['livros_por_dia']\n",
        "  biblioteca['ranking'] = nota"
      ],
      "execution_count": 0,
      "outputs": []
    }
  ]
}