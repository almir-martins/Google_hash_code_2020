{
  "nbformat": 4,
  "nbformat_minor": 0,
  "metadata": {
    "colab": {
      "name": "tratando_input.ipynb",
      "provenance": [],
      "collapsed_sections": [],
      "authorship_tag": "ABX9TyNcvaFzmVG85OUkUS8/XSlC",
      "include_colab_link": true
    },
    "kernelspec": {
      "name": "python3",
      "display_name": "Python 3"
    }
  },
  "cells": [
    {
      "cell_type": "markdown",
      "metadata": {
        "id": "view-in-github",
        "colab_type": "text"
      },
      "source": [
        "<a href=\"https://colab.research.google.com/github/crazyself/Google_hash_code_2020/blob/master/tratando_input.ipynb\" target=\"_parent\"><img src=\"https://colab.research.google.com/assets/colab-badge.svg\" alt=\"Open In Colab\"/></a>"
      ]
    },
    {
      "cell_type": "code",
      "metadata": {
        "id": "i4f8tolCO786",
        "colab_type": "code",
        "colab": {}
      },
      "source": [
        "# -*- coding: utf-8 -*-\n",
        "#Lê a primeira linha de entrada convertendo para inteiro\n",
        "livros_total, bibliotecas_total, prazo_total = map(int, input(\"Primeira linha \").split())\n",
        "#Lê a Segunda linha de entrada convertendo para uma lista de inteiros\n",
        "livros_pontuacao = list(map(int, input('Segunda linha ').split()))\n",
        "\n",
        "bibliotecas = dict()\n",
        "\n",
        "for i in range(bibliotecas_total):  \n",
        "  livros_id_pontos = dict()\n",
        "  biblioteca = dict()\n",
        "  #Lê a Terceira linha de entrada convertendo para lista\n",
        "  apoio = list(map(int, input('Terceira linha ').split()))\n",
        "\n",
        "  biblioteca['qtd_livros'] = apoio[0]\n",
        "  biblioteca['dias_cadastro'] = apoio[1]\n",
        "  biblioteca['livros_por_dia'] = apoio[2]\n",
        "\n",
        "  #Lê a Quarta linha de entrada\n",
        "  apoio2 = list(map(int, input('Quarta linha ').split()))\n",
        "\n",
        "  #popula o dicionario com id do livro e o respectiva pontuação\n",
        "  for item in apoio2:   \n",
        "    livros_id_pontos[item] = livros_pontuacao[item]\n",
        "  \n",
        "  #Adiciona o dicionário de pontuações no dicionário biblioteca\n",
        "  biblioteca['livros'] = livros_id_pontos\n",
        "  chave = 'biblioteca' + str(i)\n",
        "\n",
        "  #Adiciona o dicionário biblioteca dentro de um dicionário de bibliotecas \n",
        "  bibliotecas[chave] = biblioteca\n",
        "print(bibliotecas)"
      ],
      "execution_count": 0,
      "outputs": []
    }
  ]
}