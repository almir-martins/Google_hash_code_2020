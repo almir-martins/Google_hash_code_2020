{
  "nbformat": 4,
  "nbformat_minor": 0,
  "metadata": {
    "colab": {
      "name": "tratando_input.ipynb",
      "provenance": [],
      "authorship_tag": "ABX9TyP7dmuWWi1shN0y6ht93lDP",
      "include_colab_link": true
    },
    "kernelspec": {
      "name": "python3",
      "display_name": "Python 3"
    }
  },
  "cells": [
    {
      "cell_type": "markdown",
      "metadata": {
        "id": "view-in-github",
        "colab_type": "text"
      },
      "source": [
        "<a href=\"https://colab.research.google.com/github/crazyself/Google_hash_code_2020/blob/master/tratando_input.ipynb\" target=\"_parent\"><img src=\"https://colab.research.google.com/assets/colab-badge.svg\" alt=\"Open In Colab\"/></a>"
      ]
    },
    {
      "cell_type": "code",
      "metadata": {
        "id": "i4f8tolCO786",
        "colab_type": "code",
        "colab": {}
      },
      "source": [
        "# -*- coding: utf-8 -*-\n",
        "'''\n",
        "INPUT           DESCRIPTION\n",
        "6 2 7           6 livros, 2 bibliotecas, 7 dias de prazo\n",
        "1 2 3 6 5 4     Pontuaçãão dos livros na ordem\n",
        "5 2 2           Biblioteca 0 tem 5 livros, 2 dias p/ cadastro, empresta 2 livros\n",
        "0 1 2 3 4       Os livros que a biblioteca 0 tem\n",
        "4 3 1           Biblioteca 1 tem 4 livros, 3 dias p/ cadastro, empresta 1 livro\n",
        "3 2 5 0         Os livros que a biblioteca 1 tem\n",
        "'''\n",
        "#===============================================\n",
        "'''\n",
        "SUBMISSION FILE   DESCRIPTION  \n",
        "2                 Two libraries will be signed up for scanning.  \n",
        "1 3               The first library to signup is library 1. After it will send 3 books for scanning.  \n",
        "5 2 3             Library 1 will send book 5, book 2, and book 3 in order.  \n",
        "0 5               The second library to signup is library 2. After the signup process it will send 5 books.  \n",
        "0 1 2 3 4         Library 0 will send book 0, book 1, book 2, book 3 and book 4 in that order.  \n",
        "'''\n",
        "#Lê a primeira linha de entrada convertendo para inteiro\n",
        "livros_total, bibliotecas_total, prazo_total = map(int, input(\"Primeira linha \").split())\n",
        "#Lê a Segunda linha de entrada convertendo para uma lista de inteiros\n",
        "livros_pontuacao = list(map(int, input('Segunda linha ').split()))\n",
        "\n",
        "\n",
        "bibliotecas = dict()\n",
        "\n",
        "for i in range(bibliotecas_total):  \n",
        "  livros_id_pontos = dict()\n",
        "  biblioteca = dict()\n",
        "  #Lê a Terceira linha de entrada convertendo para lista\n",
        "  apoio = list(map(int, input('Terceira linha ').split()))\n",
        "\n",
        "  biblioteca['qtd_livros'] = apoio[0]\n",
        "  biblioteca['dias_cadastro'] = apoio[1]\n",
        "  biblioteca['livros_por_dia'] = apoio[2]\n",
        "\n",
        "  #Lê a Quarta linha de entrada\n",
        "  apoio2 = list(map(int, input('Quarta linha ').split()))\n",
        "\n",
        "  #popula o dicionario com id do livro e o respoectiva pontuação\n",
        "  for item in apoio2:   \n",
        "    livros_id_pontos[item] = livros_pontuacao[item]\n",
        "  \n",
        "  biblioteca['livros'] = livros_id_pontos\n",
        "  chave = 'biblioteca' + str(i)\n",
        "  bibliotecas[chave] = biblioteca\n",
        "print(bibliotecas)"
      ],
      "execution_count": 0,
      "outputs": []
    }
  ]
}