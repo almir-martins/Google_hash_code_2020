{
  "nbformat": 4,
  "nbformat_minor": 0,
  "metadata": {
    "colab": {
      "name": "Biblioteca_classe.ipynb",
      "provenance": [],
      "collapsed_sections": [],
      "authorship_tag": "ABX9TyNNZPdIjO9Cs+QVwlHYF8un",
      "include_colab_link": true
    },
    "kernelspec": {
      "name": "python3",
      "display_name": "Python 3"
    }
  },
  "cells": [
    {
      "cell_type": "markdown",
      "metadata": {
        "id": "view-in-github",
        "colab_type": "text"
      },
      "source": [
        "<a href=\"https://colab.research.google.com/github/crazyself/Google_hash_code_2020/blob/master/Biblioteca_classe.ipynb\" target=\"_parent\"><img src=\"https://colab.research.google.com/assets/colab-badge.svg\" alt=\"Open In Colab\"/></a>"
      ]
    },
    {
      "cell_type": "code",
      "metadata": {
        "colab_type": "code",
        "id": "AqLI8Ilot4Yr",
        "colab": {
          "base_uri": "https://localhost:8080/",
          "height": 86
        },
        "outputId": "39c65190-8fc4-4eff-a14b-40283354c387"
      },
      "source": [
        "class Biblioteca: \n",
        "\n",
        "  def __init__(self, id, qtd_livros, dias_cadastro, livros_por_dia, livros, pontuacao_livros, score):\n",
        "    self.id = id\n",
        "    self.qtd_livros = qtd_livros\n",
        "    self.dias_cadastro = dias_cadastro\n",
        "    self.livros_por_dia = livros_por_dia\n",
        "    self.livros = livros\n",
        "    self.score_livros = pontuacao_livros\n",
        "    self.score = score\n",
        "\n",
        "  def set_id(self, novo_id):\n",
        "    self.id = novo_id\n",
        "  def set_qtd_livros(self, qtd):\n",
        "    self.qtd_livros = qtd\n",
        "  def set_dias_cadastro(self, dc):\n",
        "    self.dias_cadastro = dc\n",
        "  def set_livros_por_dia(self, lpd):\n",
        "    self.livros_por_dia\n",
        "  def set_livros(self, lv):\n",
        "    self.livros = lv \n",
        "  def set_score_livros(self, sl):\n",
        "    self.score_livros = sl \n",
        "  def set_score(self, sc):\n",
        "    self.score = sc\n",
        "\n",
        "bb = Biblioteca(1, 3, 4, 2, 6, 9, 10)\n",
        "print(bb.id)\n",
        "print(bb.livros)\n",
        "bb.set_livros([1,2,3])\n",
        "print(bb.livros)\n",
        "bb.set_livros([5,5,5])\n",
        "print(bb.livros)"
      ],
      "execution_count": 49,
      "outputs": [
        {
          "output_type": "stream",
          "text": [
            "1\n",
            "6\n",
            "[1, 2, 3]\n",
            "[5, 5, 5]\n"
          ],
          "name": "stdout"
        }
      ]
    }
  ]
}